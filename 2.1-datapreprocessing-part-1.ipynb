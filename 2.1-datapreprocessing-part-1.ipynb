{
 "cells": [
  {
   "cell_type": "markdown",
   "id": "7d7abc60",
   "metadata": {
    "papermill": {
     "duration": 0.010279,
     "end_time": "2025-03-09T06:15:27.315371",
     "exception": false,
     "start_time": "2025-03-09T06:15:27.305092",
     "status": "completed"
    },
    "tags": []
   },
   "source": [
    "# GenAI: 2. Data Precess And Cleanning"
   ]
  },
  {
   "cell_type": "code",
   "execution_count": 1,
   "id": "b13e0dd4",
   "metadata": {
    "_cell_guid": "b1076dfc-b9ad-4769-8c92-a6c4dae69d19",
    "_uuid": "8f2839f25d086af736a60e9eeb907d3b93b6e0e5",
    "execution": {
     "iopub.execute_input": "2025-03-09T06:15:27.334514Z",
     "iopub.status.busy": "2025-03-09T06:15:27.334173Z",
     "iopub.status.idle": "2025-03-09T06:15:27.997860Z",
     "shell.execute_reply": "2025-03-09T06:15:27.997008Z"
    },
    "papermill": {
     "duration": 0.67502,
     "end_time": "2025-03-09T06:15:27.999302",
     "exception": false,
     "start_time": "2025-03-09T06:15:27.324282",
     "status": "completed"
    },
    "tags": []
   },
   "outputs": [],
   "source": [
    "# import libraries\n",
    "import pandas as pd"
   ]
  },
  {
   "cell_type": "code",
   "execution_count": 2,
   "id": "468a42be",
   "metadata": {
    "execution": {
     "iopub.execute_input": "2025-03-09T06:15:28.021986Z",
     "iopub.status.busy": "2025-03-09T06:15:28.021498Z",
     "iopub.status.idle": "2025-03-09T06:15:29.303774Z",
     "shell.execute_reply": "2025-03-09T06:15:29.302978Z"
    },
    "papermill": {
     "duration": 1.294293,
     "end_time": "2025-03-09T06:15:29.304892",
     "exception": false,
     "start_time": "2025-03-09T06:15:28.010599",
     "status": "completed"
    },
    "tags": []
   },
   "outputs": [
    {
     "data": {
      "text/html": [
       "<div>\n",
       "<style scoped>\n",
       "    .dataframe tbody tr th:only-of-type {\n",
       "        vertical-align: middle;\n",
       "    }\n",
       "\n",
       "    .dataframe tbody tr th {\n",
       "        vertical-align: top;\n",
       "    }\n",
       "\n",
       "    .dataframe thead th {\n",
       "        text-align: right;\n",
       "    }\n",
       "</style>\n",
       "<table border=\"1\" class=\"dataframe\">\n",
       "  <thead>\n",
       "    <tr style=\"text-align: right;\">\n",
       "      <th></th>\n",
       "      <th>review</th>\n",
       "      <th>sentiment</th>\n",
       "    </tr>\n",
       "  </thead>\n",
       "  <tbody>\n",
       "    <tr>\n",
       "      <th>0</th>\n",
       "      <td>One of the other reviewers has mentioned that ...</td>\n",
       "      <td>positive</td>\n",
       "    </tr>\n",
       "    <tr>\n",
       "      <th>1</th>\n",
       "      <td>A wonderful little production. &lt;br /&gt;&lt;br /&gt;The...</td>\n",
       "      <td>positive</td>\n",
       "    </tr>\n",
       "    <tr>\n",
       "      <th>2</th>\n",
       "      <td>I thought this was a wonderful way to spend ti...</td>\n",
       "      <td>positive</td>\n",
       "    </tr>\n",
       "    <tr>\n",
       "      <th>3</th>\n",
       "      <td>Basically there's a family where a little boy ...</td>\n",
       "      <td>negative</td>\n",
       "    </tr>\n",
       "    <tr>\n",
       "      <th>4</th>\n",
       "      <td>Petter Mattei's \"Love in the Time of Money\" is...</td>\n",
       "      <td>positive</td>\n",
       "    </tr>\n",
       "  </tbody>\n",
       "</table>\n",
       "</div>"
      ],
      "text/plain": [
       "                                              review sentiment\n",
       "0  One of the other reviewers has mentioned that ...  positive\n",
       "1  A wonderful little production. <br /><br />The...  positive\n",
       "2  I thought this was a wonderful way to spend ti...  positive\n",
       "3  Basically there's a family where a little boy ...  negative\n",
       "4  Petter Mattei's \"Love in the Time of Money\" is...  positive"
      ]
     },
     "execution_count": 2,
     "metadata": {},
     "output_type": "execute_result"
    }
   ],
   "source": [
    "# load dataset\n",
    "dataPath = '/kaggle/input/imdb-dataset-of-50k-movie-reviews/IMDB Dataset.csv'\n",
    "df = pd.read_csv(dataPath)\n",
    "df.head()"
   ]
  },
  {
   "cell_type": "code",
   "execution_count": 3,
   "id": "60de107b",
   "metadata": {
    "execution": {
     "iopub.execute_input": "2025-03-09T06:15:29.323672Z",
     "iopub.status.busy": "2025-03-09T06:15:29.323395Z",
     "iopub.status.idle": "2025-03-09T06:15:29.327440Z",
     "shell.execute_reply": "2025-03-09T06:15:29.326737Z"
    },
    "papermill": {
     "duration": 0.014554,
     "end_time": "2025-03-09T06:15:29.328615",
     "exception": false,
     "start_time": "2025-03-09T06:15:29.314061",
     "status": "completed"
    },
    "tags": []
   },
   "outputs": [
    {
     "data": {
      "text/plain": [
       "(50000, 2)"
      ]
     },
     "execution_count": 3,
     "metadata": {},
     "output_type": "execute_result"
    }
   ],
   "source": [
    "df.shape"
   ]
  },
  {
   "cell_type": "code",
   "execution_count": 4,
   "id": "b1f59bce",
   "metadata": {
    "execution": {
     "iopub.execute_input": "2025-03-09T06:15:29.347095Z",
     "iopub.status.busy": "2025-03-09T06:15:29.346887Z",
     "iopub.status.idle": "2025-03-09T06:15:29.350303Z",
     "shell.execute_reply": "2025-03-09T06:15:29.349484Z"
    },
    "papermill": {
     "duration": 0.013914,
     "end_time": "2025-03-09T06:15:29.351455",
     "exception": false,
     "start_time": "2025-03-09T06:15:29.337541",
     "status": "completed"
    },
    "tags": []
   },
   "outputs": [],
   "source": [
    "# over 50k sample we use 100 to show the data preprocess\n",
    "df = df.head(100)"
   ]
  },
  {
   "cell_type": "code",
   "execution_count": 5,
   "id": "9c40e191",
   "metadata": {
    "execution": {
     "iopub.execute_input": "2025-03-09T06:15:29.372151Z",
     "iopub.status.busy": "2025-03-09T06:15:29.371873Z",
     "iopub.status.idle": "2025-03-09T06:15:29.376422Z",
     "shell.execute_reply": "2025-03-09T06:15:29.375588Z"
    },
    "papermill": {
     "duration": 0.016528,
     "end_time": "2025-03-09T06:15:29.377977",
     "exception": false,
     "start_time": "2025-03-09T06:15:29.361449",
     "status": "completed"
    },
    "tags": []
   },
   "outputs": [
    {
     "data": {
      "text/plain": [
       "(100, 2)"
      ]
     },
     "execution_count": 5,
     "metadata": {},
     "output_type": "execute_result"
    }
   ],
   "source": [
    "df.shape"
   ]
  },
  {
   "cell_type": "code",
   "execution_count": 6,
   "id": "a6555554",
   "metadata": {
    "execution": {
     "iopub.execute_input": "2025-03-09T06:15:29.397997Z",
     "iopub.status.busy": "2025-03-09T06:15:29.397746Z",
     "iopub.status.idle": "2025-03-09T06:15:29.402398Z",
     "shell.execute_reply": "2025-03-09T06:15:29.401612Z"
    },
    "papermill": {
     "duration": 0.015775,
     "end_time": "2025-03-09T06:15:29.403668",
     "exception": false,
     "start_time": "2025-03-09T06:15:29.387893",
     "status": "completed"
    },
    "tags": []
   },
   "outputs": [
    {
     "data": {
      "text/plain": [
       "\"One of the other reviewers has mentioned that after watching just 1 Oz episode you'll be hooked. They are right, as this is exactly what happened with me.<br /><br />The first thing that struck me about Oz was its brutality and unflinching scenes of violence, which set in right from the word GO. Trust me, this is not a show for the faint hearted or timid. This show pulls no punches with regards to drugs, sex or violence. Its is hardcore, in the classic use of the word.<br /><br />It is called OZ as that is the nickname given to the Oswald Maximum Security State Penitentary. It focuses mainly on Emerald City, an experimental section of the prison where all the cells have glass fronts and face inwards, so privacy is not high on the agenda. Em City is home to many..Aryans, Muslims, gangstas, Latinos, Christians, Italians, Irish and more....so scuffles, death stares, dodgy dealings and shady agreements are never far away.<br /><br />I would say the main appeal of the show is due to the fact that it goes where other shows wouldn't dare. Forget pretty pictures painted for mainstream audiences, forget charm, forget romance...OZ doesn't mess around. The first episode I ever saw struck me as so nasty it was surreal, I couldn't say I was ready for it, but as I watched more, I developed a taste for Oz, and got accustomed to the high levels of graphic violence. Not just violence, but injustice (crooked guards who'll be sold out for a nickel, inmates who'll kill on order and get away with it, well mannered, middle class inmates being turned into prison bitches due to their lack of street skills or prison experience) Watching Oz, you may become comfortable with what is uncomfortable viewing....thats if you can get in touch with your darker side.\""
      ]
     },
     "execution_count": 6,
     "metadata": {},
     "output_type": "execute_result"
    }
   ],
   "source": [
    "# look at the first review\n",
    "df['review'][0]"
   ]
  },
  {
   "cell_type": "markdown",
   "id": "1d3fc4eb",
   "metadata": {
    "papermill": {
     "duration": 0.008846,
     "end_time": "2025-03-09T06:15:29.422534",
     "exception": false,
     "start_time": "2025-03-09T06:15:29.413688",
     "status": "completed"
    },
    "tags": []
   },
   "source": [
    "## Lower Case"
   ]
  },
  {
   "cell_type": "code",
   "execution_count": 7,
   "id": "59004aae",
   "metadata": {
    "execution": {
     "iopub.execute_input": "2025-03-09T06:15:29.441266Z",
     "iopub.status.busy": "2025-03-09T06:15:29.441020Z",
     "iopub.status.idle": "2025-03-09T06:15:29.446231Z",
     "shell.execute_reply": "2025-03-09T06:15:29.445347Z"
    },
    "papermill": {
     "duration": 0.015795,
     "end_time": "2025-03-09T06:15:29.447291",
     "exception": false,
     "start_time": "2025-03-09T06:15:29.431496",
     "status": "completed"
    },
    "tags": []
   },
   "outputs": [
    {
     "data": {
      "text/plain": [
       "\"One of the other reviewers has mentioned that after watching just 1 Oz episode you'll be hooked. They are right, as this is exactly what happened with me.<br /><br />The first thing that struck me about Oz was its brutality and unflinching scenes of violence, which set in right from the word GO. Trust me, this is not a show for the faint hearted or timid. This show pulls no punches with regards to drugs, sex or violence. Its is hardcore, in the classic use of the word.<br /><br />It is called OZ as that is the nickname given to the Oswald Maximum Security State Penitentary. It focuses mainly on Emerald City, an experimental section of the prison where all the cells have glass fronts and face inwards, so privacy is not high on the agenda. Em City is home to many..Aryans, Muslims, gangstas, Latinos, Christians, Italians, Irish and more....so scuffles, death stares, dodgy dealings and shady agreements are never far away.<br /><br />I would say the main appeal of the show is due to the fact that it goes where other shows wouldn't dare. Forget pretty pictures painted for mainstream audiences, forget charm, forget romance...OZ doesn't mess around. The first episode I ever saw struck me as so nasty it was surreal, I couldn't say I was ready for it, but as I watched more, I developed a taste for Oz, and got accustomed to the high levels of graphic violence. Not just violence, but injustice (crooked guards who'll be sold out for a nickel, inmates who'll kill on order and get away with it, well mannered, middle class inmates being turned into prison bitches due to their lack of street skills or prison experience) Watching Oz, you may become comfortable with what is uncomfortable viewing....thats if you can get in touch with your darker side.\""
      ]
     },
     "execution_count": 7,
     "metadata": {},
     "output_type": "execute_result"
    }
   ],
   "source": [
    "df['review'][0]"
   ]
  },
  {
   "cell_type": "code",
   "execution_count": 8,
   "id": "0ec28635",
   "metadata": {
    "execution": {
     "iopub.execute_input": "2025-03-09T06:15:29.466164Z",
     "iopub.status.busy": "2025-03-09T06:15:29.465937Z",
     "iopub.status.idle": "2025-03-09T06:15:29.470065Z",
     "shell.execute_reply": "2025-03-09T06:15:29.469316Z"
    },
    "papermill": {
     "duration": 0.014929,
     "end_time": "2025-03-09T06:15:29.471242",
     "exception": false,
     "start_time": "2025-03-09T06:15:29.456313",
     "status": "completed"
    },
    "tags": []
   },
   "outputs": [],
   "source": [
    "# convert data in lower case\n",
    "df['review'] = df['review'].str.lower()"
   ]
  },
  {
   "cell_type": "code",
   "execution_count": 9,
   "id": "d3ff055e",
   "metadata": {
    "execution": {
     "iopub.execute_input": "2025-03-09T06:15:29.490976Z",
     "iopub.status.busy": "2025-03-09T06:15:29.490773Z",
     "iopub.status.idle": "2025-03-09T06:15:29.500974Z",
     "shell.execute_reply": "2025-03-09T06:15:29.500316Z"
    },
    "papermill": {
     "duration": 0.02086,
     "end_time": "2025-03-09T06:15:29.502115",
     "exception": false,
     "start_time": "2025-03-09T06:15:29.481255",
     "status": "completed"
    },
    "tags": []
   },
   "outputs": [
    {
     "data": {
      "text/html": [
       "<div>\n",
       "<style scoped>\n",
       "    .dataframe tbody tr th:only-of-type {\n",
       "        vertical-align: middle;\n",
       "    }\n",
       "\n",
       "    .dataframe tbody tr th {\n",
       "        vertical-align: top;\n",
       "    }\n",
       "\n",
       "    .dataframe thead th {\n",
       "        text-align: right;\n",
       "    }\n",
       "</style>\n",
       "<table border=\"1\" class=\"dataframe\">\n",
       "  <thead>\n",
       "    <tr style=\"text-align: right;\">\n",
       "      <th></th>\n",
       "      <th>review</th>\n",
       "      <th>sentiment</th>\n",
       "    </tr>\n",
       "  </thead>\n",
       "  <tbody>\n",
       "    <tr>\n",
       "      <th>0</th>\n",
       "      <td>one of the other reviewers has mentioned that ...</td>\n",
       "      <td>positive</td>\n",
       "    </tr>\n",
       "    <tr>\n",
       "      <th>1</th>\n",
       "      <td>a wonderful little production. &lt;br /&gt;&lt;br /&gt;the...</td>\n",
       "      <td>positive</td>\n",
       "    </tr>\n",
       "    <tr>\n",
       "      <th>2</th>\n",
       "      <td>i thought this was a wonderful way to spend ti...</td>\n",
       "      <td>positive</td>\n",
       "    </tr>\n",
       "    <tr>\n",
       "      <th>3</th>\n",
       "      <td>basically there's a family where a little boy ...</td>\n",
       "      <td>negative</td>\n",
       "    </tr>\n",
       "    <tr>\n",
       "      <th>4</th>\n",
       "      <td>petter mattei's \"love in the time of money\" is...</td>\n",
       "      <td>positive</td>\n",
       "    </tr>\n",
       "    <tr>\n",
       "      <th>...</th>\n",
       "      <td>...</td>\n",
       "      <td>...</td>\n",
       "    </tr>\n",
       "    <tr>\n",
       "      <th>95</th>\n",
       "      <td>daniel day-lewis is the most versatile actor a...</td>\n",
       "      <td>positive</td>\n",
       "    </tr>\n",
       "    <tr>\n",
       "      <th>96</th>\n",
       "      <td>my guess would be this was originally going to...</td>\n",
       "      <td>negative</td>\n",
       "    </tr>\n",
       "    <tr>\n",
       "      <th>97</th>\n",
       "      <td>well, i like to watch bad horror b-movies, cau...</td>\n",
       "      <td>negative</td>\n",
       "    </tr>\n",
       "    <tr>\n",
       "      <th>98</th>\n",
       "      <td>this is the worst movie i have ever seen, as w...</td>\n",
       "      <td>negative</td>\n",
       "    </tr>\n",
       "    <tr>\n",
       "      <th>99</th>\n",
       "      <td>i have been a mario fan for as long as i can r...</td>\n",
       "      <td>positive</td>\n",
       "    </tr>\n",
       "  </tbody>\n",
       "</table>\n",
       "<p>100 rows × 2 columns</p>\n",
       "</div>"
      ],
      "text/plain": [
       "                                               review sentiment\n",
       "0   one of the other reviewers has mentioned that ...  positive\n",
       "1   a wonderful little production. <br /><br />the...  positive\n",
       "2   i thought this was a wonderful way to spend ti...  positive\n",
       "3   basically there's a family where a little boy ...  negative\n",
       "4   petter mattei's \"love in the time of money\" is...  positive\n",
       "..                                                ...       ...\n",
       "95  daniel day-lewis is the most versatile actor a...  positive\n",
       "96  my guess would be this was originally going to...  negative\n",
       "97  well, i like to watch bad horror b-movies, cau...  negative\n",
       "98  this is the worst movie i have ever seen, as w...  negative\n",
       "99  i have been a mario fan for as long as i can r...  positive\n",
       "\n",
       "[100 rows x 2 columns]"
      ]
     },
     "execution_count": 9,
     "metadata": {},
     "output_type": "execute_result"
    }
   ],
   "source": [
    "df"
   ]
  },
  {
   "cell_type": "code",
   "execution_count": 10,
   "id": "621c2855",
   "metadata": {
    "execution": {
     "iopub.execute_input": "2025-03-09T06:15:29.521653Z",
     "iopub.status.busy": "2025-03-09T06:15:29.521420Z",
     "iopub.status.idle": "2025-03-09T06:15:29.525563Z",
     "shell.execute_reply": "2025-03-09T06:15:29.524943Z"
    },
    "papermill": {
     "duration": 0.015035,
     "end_time": "2025-03-09T06:15:29.526634",
     "exception": false,
     "start_time": "2025-03-09T06:15:29.511599",
     "status": "completed"
    },
    "tags": []
   },
   "outputs": [
    {
     "data": {
      "text/plain": [
       "\"one of the other reviewers has mentioned that after watching just 1 oz episode you'll be hooked. they are right, as this is exactly what happened with me.<br /><br />the first thing that struck me about oz was its brutality and unflinching scenes of violence, which set in right from the word go. trust me, this is not a show for the faint hearted or timid. this show pulls no punches with regards to drugs, sex or violence. its is hardcore, in the classic use of the word.<br /><br />it is called oz as that is the nickname given to the oswald maximum security state penitentary. it focuses mainly on emerald city, an experimental section of the prison where all the cells have glass fronts and face inwards, so privacy is not high on the agenda. em city is home to many..aryans, muslims, gangstas, latinos, christians, italians, irish and more....so scuffles, death stares, dodgy dealings and shady agreements are never far away.<br /><br />i would say the main appeal of the show is due to the fact that it goes where other shows wouldn't dare. forget pretty pictures painted for mainstream audiences, forget charm, forget romance...oz doesn't mess around. the first episode i ever saw struck me as so nasty it was surreal, i couldn't say i was ready for it, but as i watched more, i developed a taste for oz, and got accustomed to the high levels of graphic violence. not just violence, but injustice (crooked guards who'll be sold out for a nickel, inmates who'll kill on order and get away with it, well mannered, middle class inmates being turned into prison bitches due to their lack of street skills or prison experience) watching oz, you may become comfortable with what is uncomfortable viewing....thats if you can get in touch with your darker side.\""
      ]
     },
     "execution_count": 10,
     "metadata": {},
     "output_type": "execute_result"
    }
   ],
   "source": [
    "df['review'][0]"
   ]
  },
  {
   "cell_type": "markdown",
   "id": "fc5882b4",
   "metadata": {
    "papermill": {
     "duration": 0.009199,
     "end_time": "2025-03-09T06:15:29.545538",
     "exception": false,
     "start_time": "2025-03-09T06:15:29.536339",
     "status": "completed"
    },
    "tags": []
   },
   "source": [
    "## Remove HTML Tag"
   ]
  },
  {
   "cell_type": "code",
   "execution_count": 11,
   "id": "2f701b11",
   "metadata": {
    "execution": {
     "iopub.execute_input": "2025-03-09T06:15:29.565837Z",
     "iopub.status.busy": "2025-03-09T06:15:29.565452Z",
     "iopub.status.idle": "2025-03-09T06:15:29.569643Z",
     "shell.execute_reply": "2025-03-09T06:15:29.568722Z"
    },
    "papermill": {
     "duration": 0.015733,
     "end_time": "2025-03-09T06:15:29.570789",
     "exception": false,
     "start_time": "2025-03-09T06:15:29.555056",
     "status": "completed"
    },
    "tags": []
   },
   "outputs": [],
   "source": [
    "# html tag remove\n",
    "import re\n",
    "def removeHTMLTag(text):\n",
    "    pattern = re.compile('<.*?>')\n",
    "    return pattern.sub(r'', text)"
   ]
  },
  {
   "cell_type": "code",
   "execution_count": 12,
   "id": "8c53be3f",
   "metadata": {
    "execution": {
     "iopub.execute_input": "2025-03-09T06:15:29.590590Z",
     "iopub.status.busy": "2025-03-09T06:15:29.590252Z",
     "iopub.status.idle": "2025-03-09T06:15:29.593783Z",
     "shell.execute_reply": "2025-03-09T06:15:29.592784Z"
    },
    "papermill": {
     "duration": 0.014638,
     "end_time": "2025-03-09T06:15:29.594885",
     "exception": false,
     "start_time": "2025-03-09T06:15:29.580247",
     "status": "completed"
    },
    "tags": []
   },
   "outputs": [],
   "source": [
    "text = \"<html><div><h2>Hello world!</h2><p>I'm a developer</p></div></html>\""
   ]
  },
  {
   "cell_type": "code",
   "execution_count": 13,
   "id": "cc9b685e",
   "metadata": {
    "execution": {
     "iopub.execute_input": "2025-03-09T06:15:29.614687Z",
     "iopub.status.busy": "2025-03-09T06:15:29.614311Z",
     "iopub.status.idle": "2025-03-09T06:15:29.618818Z",
     "shell.execute_reply": "2025-03-09T06:15:29.618139Z"
    },
    "papermill": {
     "duration": 0.015558,
     "end_time": "2025-03-09T06:15:29.619880",
     "exception": false,
     "start_time": "2025-03-09T06:15:29.604322",
     "status": "completed"
    },
    "tags": []
   },
   "outputs": [
    {
     "data": {
      "text/plain": [
       "\"Hello world!I'm a developer\""
      ]
     },
     "execution_count": 13,
     "metadata": {},
     "output_type": "execute_result"
    }
   ],
   "source": [
    "removeHTMLTag(text)"
   ]
  },
  {
   "cell_type": "code",
   "execution_count": 14,
   "id": "e99cc467",
   "metadata": {
    "execution": {
     "iopub.execute_input": "2025-03-09T06:15:29.639391Z",
     "iopub.status.busy": "2025-03-09T06:15:29.639137Z",
     "iopub.status.idle": "2025-03-09T06:15:29.643013Z",
     "shell.execute_reply": "2025-03-09T06:15:29.642357Z"
    },
    "papermill": {
     "duration": 0.015315,
     "end_time": "2025-03-09T06:15:29.644457",
     "exception": false,
     "start_time": "2025-03-09T06:15:29.629142",
     "status": "completed"
    },
    "tags": []
   },
   "outputs": [],
   "source": [
    "df['review'] = df['review'].apply(removeHTMLTag)"
   ]
  },
  {
   "cell_type": "code",
   "execution_count": 15,
   "id": "efe6473e",
   "metadata": {
    "execution": {
     "iopub.execute_input": "2025-03-09T06:15:29.665514Z",
     "iopub.status.busy": "2025-03-09T06:15:29.665278Z",
     "iopub.status.idle": "2025-03-09T06:15:29.669416Z",
     "shell.execute_reply": "2025-03-09T06:15:29.668794Z"
    },
    "papermill": {
     "duration": 0.015821,
     "end_time": "2025-03-09T06:15:29.670854",
     "exception": false,
     "start_time": "2025-03-09T06:15:29.655033",
     "status": "completed"
    },
    "tags": []
   },
   "outputs": [
    {
     "data": {
      "text/plain": [
       "\"one of the other reviewers has mentioned that after watching just 1 oz episode you'll be hooked. they are right, as this is exactly what happened with me.the first thing that struck me about oz was its brutality and unflinching scenes of violence, which set in right from the word go. trust me, this is not a show for the faint hearted or timid. this show pulls no punches with regards to drugs, sex or violence. its is hardcore, in the classic use of the word.it is called oz as that is the nickname given to the oswald maximum security state penitentary. it focuses mainly on emerald city, an experimental section of the prison where all the cells have glass fronts and face inwards, so privacy is not high on the agenda. em city is home to many..aryans, muslims, gangstas, latinos, christians, italians, irish and more....so scuffles, death stares, dodgy dealings and shady agreements are never far away.i would say the main appeal of the show is due to the fact that it goes where other shows wouldn't dare. forget pretty pictures painted for mainstream audiences, forget charm, forget romance...oz doesn't mess around. the first episode i ever saw struck me as so nasty it was surreal, i couldn't say i was ready for it, but as i watched more, i developed a taste for oz, and got accustomed to the high levels of graphic violence. not just violence, but injustice (crooked guards who'll be sold out for a nickel, inmates who'll kill on order and get away with it, well mannered, middle class inmates being turned into prison bitches due to their lack of street skills or prison experience) watching oz, you may become comfortable with what is uncomfortable viewing....thats if you can get in touch with your darker side.\""
      ]
     },
     "execution_count": 15,
     "metadata": {},
     "output_type": "execute_result"
    }
   ],
   "source": [
    "df['review'][0]"
   ]
  },
  {
   "cell_type": "markdown",
   "id": "96a69ca1",
   "metadata": {
    "papermill": {
     "duration": 0.009697,
     "end_time": "2025-03-09T06:15:29.691191",
     "exception": false,
     "start_time": "2025-03-09T06:15:29.681494",
     "status": "completed"
    },
    "tags": []
   },
   "source": [
    "## Remove URL"
   ]
  },
  {
   "cell_type": "code",
   "execution_count": 16,
   "id": "a5f76721",
   "metadata": {
    "execution": {
     "iopub.execute_input": "2025-03-09T06:15:29.712269Z",
     "iopub.status.busy": "2025-03-09T06:15:29.711992Z",
     "iopub.status.idle": "2025-03-09T06:15:29.715230Z",
     "shell.execute_reply": "2025-03-09T06:15:29.714535Z"
    },
    "papermill": {
     "duration": 0.014965,
     "end_time": "2025-03-09T06:15:29.716385",
     "exception": false,
     "start_time": "2025-03-09T06:15:29.701420",
     "status": "completed"
    },
    "tags": []
   },
   "outputs": [],
   "source": [
    "def removeURL(url):\n",
    "    pattern = re.compile(r'https?://\\S+|www\\.\\S+')\n",
    "    return pattern.sub(r'', url)"
   ]
  },
  {
   "cell_type": "code",
   "execution_count": 17,
   "id": "753e002c",
   "metadata": {
    "execution": {
     "iopub.execute_input": "2025-03-09T06:15:29.736976Z",
     "iopub.status.busy": "2025-03-09T06:15:29.736726Z",
     "iopub.status.idle": "2025-03-09T06:15:29.739992Z",
     "shell.execute_reply": "2025-03-09T06:15:29.739362Z"
    },
    "papermill": {
     "duration": 0.014435,
     "end_time": "2025-03-09T06:15:29.741108",
     "exception": false,
     "start_time": "2025-03-09T06:15:29.726673",
     "status": "completed"
    },
    "tags": []
   },
   "outputs": [],
   "source": [
    "url1 = 'Check out my youtube https://www.youtube.com/'\n",
    "url2 = 'Check out my linkedin https://www.linkedin.com/in/'\n",
    "url3 = 'Google search here www.google.com'\n",
    "url4 = 'For data click https://www.kaggle.com/'"
   ]
  },
  {
   "cell_type": "code",
   "execution_count": 18,
   "id": "540474f0",
   "metadata": {
    "execution": {
     "iopub.execute_input": "2025-03-09T06:15:29.760838Z",
     "iopub.status.busy": "2025-03-09T06:15:29.760628Z",
     "iopub.status.idle": "2025-03-09T06:15:29.765482Z",
     "shell.execute_reply": "2025-03-09T06:15:29.764731Z"
    },
    "papermill": {
     "duration": 0.01569,
     "end_time": "2025-03-09T06:15:29.766572",
     "exception": false,
     "start_time": "2025-03-09T06:15:29.750882",
     "status": "completed"
    },
    "tags": []
   },
   "outputs": [
    {
     "data": {
      "text/plain": [
       "'Check out my linkedin '"
      ]
     },
     "execution_count": 18,
     "metadata": {},
     "output_type": "execute_result"
    }
   ],
   "source": [
    "removeURL(url2)"
   ]
  },
  {
   "cell_type": "code",
   "execution_count": 19,
   "id": "a54cf830",
   "metadata": {
    "execution": {
     "iopub.execute_input": "2025-03-09T06:15:29.786192Z",
     "iopub.status.busy": "2025-03-09T06:15:29.785945Z",
     "iopub.status.idle": "2025-03-09T06:15:29.790601Z",
     "shell.execute_reply": "2025-03-09T06:15:29.789954Z"
    },
    "papermill": {
     "duration": 0.015601,
     "end_time": "2025-03-09T06:15:29.791637",
     "exception": false,
     "start_time": "2025-03-09T06:15:29.776036",
     "status": "completed"
    },
    "tags": []
   },
   "outputs": [],
   "source": [
    "df['review'] = df['review'].apply(removeURL)"
   ]
  },
  {
   "cell_type": "code",
   "execution_count": 20,
   "id": "c36138ad",
   "metadata": {
    "execution": {
     "iopub.execute_input": "2025-03-09T06:15:29.812243Z",
     "iopub.status.busy": "2025-03-09T06:15:29.812017Z",
     "iopub.status.idle": "2025-03-09T06:15:29.815923Z",
     "shell.execute_reply": "2025-03-09T06:15:29.815414Z"
    },
    "papermill": {
     "duration": 0.015129,
     "end_time": "2025-03-09T06:15:29.816942",
     "exception": false,
     "start_time": "2025-03-09T06:15:29.801813",
     "status": "completed"
    },
    "tags": []
   },
   "outputs": [
    {
     "data": {
      "text/plain": [
       "\"one of the other reviewers has mentioned that after watching just 1 oz episode you'll be hooked. they are right, as this is exactly what happened with me.the first thing that struck me about oz was its brutality and unflinching scenes of violence, which set in right from the word go. trust me, this is not a show for the faint hearted or timid. this show pulls no punches with regards to drugs, sex or violence. its is hardcore, in the classic use of the word.it is called oz as that is the nickname given to the oswald maximum security state penitentary. it focuses mainly on emerald city, an experimental section of the prison where all the cells have glass fronts and face inwards, so privacy is not high on the agenda. em city is home to many..aryans, muslims, gangstas, latinos, christians, italians, irish and more....so scuffles, death stares, dodgy dealings and shady agreements are never far away.i would say the main appeal of the show is due to the fact that it goes where other shows wouldn't dare. forget pretty pictures painted for mainstream audiences, forget charm, forget romance...oz doesn't mess around. the first episode i ever saw struck me as so nasty it was surreal, i couldn't say i was ready for it, but as i watched more, i developed a taste for oz, and got accustomed to the high levels of graphic violence. not just violence, but injustice (crooked guards who'll be sold out for a nickel, inmates who'll kill on order and get away with it, well mannered, middle class inmates being turned into prison bitches due to their lack of street skills or prison experience) watching oz, you may become comfortable with what is uncomfortable viewing....thats if you can get in touch with your darker side.\""
      ]
     },
     "execution_count": 20,
     "metadata": {},
     "output_type": "execute_result"
    }
   ],
   "source": [
    "df['review'][0]"
   ]
  },
  {
   "cell_type": "markdown",
   "id": "3ea9c9af",
   "metadata": {
    "papermill": {
     "duration": 0.009264,
     "end_time": "2025-03-09T06:15:29.835697",
     "exception": false,
     "start_time": "2025-03-09T06:15:29.826433",
     "status": "completed"
    },
    "tags": []
   },
   "source": [
    "## Handling Punctuation"
   ]
  },
  {
   "cell_type": "code",
   "execution_count": 21,
   "id": "df6185b8",
   "metadata": {
    "execution": {
     "iopub.execute_input": "2025-03-09T06:15:29.855814Z",
     "iopub.status.busy": "2025-03-09T06:15:29.855485Z",
     "iopub.status.idle": "2025-03-09T06:15:29.859542Z",
     "shell.execute_reply": "2025-03-09T06:15:29.858891Z"
    },
    "papermill": {
     "duration": 0.015424,
     "end_time": "2025-03-09T06:15:29.860612",
     "exception": false,
     "start_time": "2025-03-09T06:15:29.845188",
     "status": "completed"
    },
    "tags": []
   },
   "outputs": [
    {
     "data": {
      "text/plain": [
       "'!\"#$%&\\'()*+,-./:;<=>?@[\\\\]^_`{|}~'"
      ]
     },
     "execution_count": 21,
     "metadata": {},
     "output_type": "execute_result"
    }
   ],
   "source": [
    "import string, time\n",
    "string.punctuation"
   ]
  },
  {
   "cell_type": "code",
   "execution_count": 22,
   "id": "031c4f8c",
   "metadata": {
    "execution": {
     "iopub.execute_input": "2025-03-09T06:15:29.880747Z",
     "iopub.status.busy": "2025-03-09T06:15:29.880445Z",
     "iopub.status.idle": "2025-03-09T06:15:29.883858Z",
     "shell.execute_reply": "2025-03-09T06:15:29.883197Z"
    },
    "papermill": {
     "duration": 0.014589,
     "end_time": "2025-03-09T06:15:29.884831",
     "exception": false,
     "start_time": "2025-03-09T06:15:29.870242",
     "status": "completed"
    },
    "tags": []
   },
   "outputs": [],
   "source": [
    "exclude = string.punctuation\n",
    "def removePunctuation(text):\n",
    "    for char in exclude:\n",
    "        text = text.replace(char, '')\n",
    "    return text"
   ]
  },
  {
   "cell_type": "code",
   "execution_count": 23,
   "id": "6dec0647",
   "metadata": {
    "execution": {
     "iopub.execute_input": "2025-03-09T06:15:29.904913Z",
     "iopub.status.busy": "2025-03-09T06:15:29.904709Z",
     "iopub.status.idle": "2025-03-09T06:15:29.907601Z",
     "shell.execute_reply": "2025-03-09T06:15:29.906925Z"
    },
    "papermill": {
     "duration": 0.014099,
     "end_time": "2025-03-09T06:15:29.908722",
     "exception": false,
     "start_time": "2025-03-09T06:15:29.894623",
     "status": "completed"
    },
    "tags": []
   },
   "outputs": [],
   "source": [
    "text = 'string. With. Punctuation?'"
   ]
  },
  {
   "cell_type": "code",
   "execution_count": 24,
   "id": "b73e2cfd",
   "metadata": {
    "execution": {
     "iopub.execute_input": "2025-03-09T06:15:29.930164Z",
     "iopub.status.busy": "2025-03-09T06:15:29.929969Z",
     "iopub.status.idle": "2025-03-09T06:15:29.934139Z",
     "shell.execute_reply": "2025-03-09T06:15:29.933468Z"
    },
    "papermill": {
     "duration": 0.015593,
     "end_time": "2025-03-09T06:15:29.935164",
     "exception": false,
     "start_time": "2025-03-09T06:15:29.919571",
     "status": "completed"
    },
    "tags": []
   },
   "outputs": [
    {
     "data": {
      "text/plain": [
       "'string With Punctuation'"
      ]
     },
     "execution_count": 24,
     "metadata": {},
     "output_type": "execute_result"
    }
   ],
   "source": [
    "removePunctuation(text)"
   ]
  },
  {
   "cell_type": "code",
   "execution_count": 25,
   "id": "37d69da8",
   "metadata": {
    "execution": {
     "iopub.execute_input": "2025-03-09T06:15:29.955928Z",
     "iopub.status.busy": "2025-03-09T06:15:29.955686Z",
     "iopub.status.idle": "2025-03-09T06:15:29.959879Z",
     "shell.execute_reply": "2025-03-09T06:15:29.959195Z"
    },
    "papermill": {
     "duration": 0.015479,
     "end_time": "2025-03-09T06:15:29.960919",
     "exception": false,
     "start_time": "2025-03-09T06:15:29.945440",
     "status": "completed"
    },
    "tags": []
   },
   "outputs": [
    {
     "name": "stdout",
     "output_type": "stream",
     "text": [
      "string With Punctuation\n",
      "6.4373016357421875\n"
     ]
    }
   ],
   "source": [
    "start = time.time()\n",
    "print(removePunctuation(text))\n",
    "time1 = time.time() - start\n",
    "print(time1*50000)"
   ]
  },
  {
   "cell_type": "code",
   "execution_count": 26,
   "id": "404e5635",
   "metadata": {
    "execution": {
     "iopub.execute_input": "2025-03-09T06:15:29.980967Z",
     "iopub.status.busy": "2025-03-09T06:15:29.980754Z",
     "iopub.status.idle": "2025-03-09T06:15:29.983996Z",
     "shell.execute_reply": "2025-03-09T06:15:29.983340Z"
    },
    "papermill": {
     "duration": 0.015146,
     "end_time": "2025-03-09T06:15:29.985709",
     "exception": false,
     "start_time": "2025-03-09T06:15:29.970563",
     "status": "completed"
    },
    "tags": []
   },
   "outputs": [],
   "source": [
    "def removePunc(text):\n",
    "    return text.translate(str.maketrans('', '', exclude))"
   ]
  },
  {
   "cell_type": "code",
   "execution_count": 27,
   "id": "a512b1b1",
   "metadata": {
    "execution": {
     "iopub.execute_input": "2025-03-09T06:15:30.007816Z",
     "iopub.status.busy": "2025-03-09T06:15:30.007615Z",
     "iopub.status.idle": "2025-03-09T06:15:30.012127Z",
     "shell.execute_reply": "2025-03-09T06:15:30.011385Z"
    },
    "papermill": {
     "duration": 0.01627,
     "end_time": "2025-03-09T06:15:30.013257",
     "exception": false,
     "start_time": "2025-03-09T06:15:29.996987",
     "status": "completed"
    },
    "tags": []
   },
   "outputs": [
    {
     "name": "stdout",
     "output_type": "stream",
     "text": [
      "string With Punctuation\n",
      "5.424022674560547\n"
     ]
    }
   ],
   "source": [
    "start = time.time()\n",
    "print(removePunc(text))\n",
    "time1 = time.time() - start\n",
    "print(time1*50000)"
   ]
  },
  {
   "cell_type": "code",
   "execution_count": 28,
   "id": "f2d6d8a0",
   "metadata": {
    "execution": {
     "iopub.execute_input": "2025-03-09T06:15:30.082682Z",
     "iopub.status.busy": "2025-03-09T06:15:30.082352Z",
     "iopub.status.idle": "2025-03-09T06:15:30.087358Z",
     "shell.execute_reply": "2025-03-09T06:15:30.086447Z"
    },
    "papermill": {
     "duration": 0.06493,
     "end_time": "2025-03-09T06:15:30.088673",
     "exception": false,
     "start_time": "2025-03-09T06:15:30.023743",
     "status": "completed"
    },
    "tags": []
   },
   "outputs": [
    {
     "data": {
      "text/plain": [
       "\"one of the other reviewers has mentioned that after watching just 1 oz episode you'll be hooked. they are right, as this is exactly what happened with me.the first thing that struck me about oz was its brutality and unflinching scenes of violence, which set in right from the word go. trust me, this is not a show for the faint hearted or timid. this show pulls no punches with regards to drugs, sex or violence. its is hardcore, in the classic use of the word.it is called oz as that is the nickname given to the oswald maximum security state penitentary. it focuses mainly on emerald city, an experimental section of the prison where all the cells have glass fronts and face inwards, so privacy is not high on the agenda. em city is home to many..aryans, muslims, gangstas, latinos, christians, italians, irish and more....so scuffles, death stares, dodgy dealings and shady agreements are never far away.i would say the main appeal of the show is due to the fact that it goes where other shows wouldn't dare. forget pretty pictures painted for mainstream audiences, forget charm, forget romance...oz doesn't mess around. the first episode i ever saw struck me as so nasty it was surreal, i couldn't say i was ready for it, but as i watched more, i developed a taste for oz, and got accustomed to the high levels of graphic violence. not just violence, but injustice (crooked guards who'll be sold out for a nickel, inmates who'll kill on order and get away with it, well mannered, middle class inmates being turned into prison bitches due to their lack of street skills or prison experience) watching oz, you may become comfortable with what is uncomfortable viewing....thats if you can get in touch with your darker side.\""
      ]
     },
     "execution_count": 28,
     "metadata": {},
     "output_type": "execute_result"
    }
   ],
   "source": [
    "df['review'][0]"
   ]
  },
  {
   "cell_type": "code",
   "execution_count": 29,
   "id": "02a0bf1c",
   "metadata": {
    "execution": {
     "iopub.execute_input": "2025-03-09T06:15:30.110984Z",
     "iopub.status.busy": "2025-03-09T06:15:30.110721Z",
     "iopub.status.idle": "2025-03-09T06:15:30.115521Z",
     "shell.execute_reply": "2025-03-09T06:15:30.114647Z"
    },
    "papermill": {
     "duration": 0.017164,
     "end_time": "2025-03-09T06:15:30.116823",
     "exception": false,
     "start_time": "2025-03-09T06:15:30.099659",
     "status": "completed"
    },
    "tags": []
   },
   "outputs": [
    {
     "data": {
      "text/plain": [
       "'one of the other reviewers has mentioned that after watching just 1 oz episode youll be hooked they are right as this is exactly what happened with methe first thing that struck me about oz was its brutality and unflinching scenes of violence which set in right from the word go trust me this is not a show for the faint hearted or timid this show pulls no punches with regards to drugs sex or violence its is hardcore in the classic use of the wordit is called oz as that is the nickname given to the oswald maximum security state penitentary it focuses mainly on emerald city an experimental section of the prison where all the cells have glass fronts and face inwards so privacy is not high on the agenda em city is home to manyaryans muslims gangstas latinos christians italians irish and moreso scuffles death stares dodgy dealings and shady agreements are never far awayi would say the main appeal of the show is due to the fact that it goes where other shows wouldnt dare forget pretty pictures painted for mainstream audiences forget charm forget romanceoz doesnt mess around the first episode i ever saw struck me as so nasty it was surreal i couldnt say i was ready for it but as i watched more i developed a taste for oz and got accustomed to the high levels of graphic violence not just violence but injustice crooked guards wholl be sold out for a nickel inmates wholl kill on order and get away with it well mannered middle class inmates being turned into prison bitches due to their lack of street skills or prison experience watching oz you may become comfortable with what is uncomfortable viewingthats if you can get in touch with your darker side'"
      ]
     },
     "execution_count": 29,
     "metadata": {},
     "output_type": "execute_result"
    }
   ],
   "source": [
    "removePunc(df['review'][0])"
   ]
  },
  {
   "cell_type": "markdown",
   "id": "5a4f4b0f",
   "metadata": {
    "papermill": {
     "duration": 0.010178,
     "end_time": "2025-03-09T06:15:30.138080",
     "exception": false,
     "start_time": "2025-03-09T06:15:30.127902",
     "status": "completed"
    },
    "tags": []
   },
   "source": [
    "## Chat Conversion Handle"
   ]
  },
  {
   "cell_type": "code",
   "execution_count": 30,
   "id": "fe6ebff6",
   "metadata": {
    "execution": {
     "iopub.execute_input": "2025-03-09T06:15:30.160287Z",
     "iopub.status.busy": "2025-03-09T06:15:30.160015Z",
     "iopub.status.idle": "2025-03-09T06:15:30.166563Z",
     "shell.execute_reply": "2025-03-09T06:15:30.165351Z"
    },
    "papermill": {
     "duration": 0.019504,
     "end_time": "2025-03-09T06:15:30.167742",
     "exception": false,
     "start_time": "2025-03-09T06:15:30.148238",
     "status": "completed"
    },
    "tags": []
   },
   "outputs": [
    {
     "data": {
      "text/plain": [
       "{'AFAIK': 'As Far As I Know',\n",
       " 'AFK': 'Away From Keyboard',\n",
       " 'ASAP': 'As Soon As Possible',\n",
       " 'FYI': 'For Your Information',\n",
       " 'BRB': 'Be Right Back',\n",
       " 'BTW': 'By The Way',\n",
       " 'OMG': 'Oh My God',\n",
       " 'IMO': 'In My Opinion',\n",
       " 'LOL': 'Laugh Out Loud',\n",
       " 'TTYL': 'Talk To You Later',\n",
       " 'GTG': 'Got To Go',\n",
       " 'TTYT': 'Talk To You Tomorrow',\n",
       " 'IDK': \"I Don't Know\",\n",
       " 'TMI': 'Too Much Information',\n",
       " 'IMHO': 'In My Humble Opinion',\n",
       " 'ICYMI': 'In Case You Missed It',\n",
       " 'FAQ': 'Frequently Asked Questions',\n",
       " 'TGIF': \"Thank God It's Friday\",\n",
       " 'FYA': 'For Your Action'}"
      ]
     },
     "execution_count": 30,
     "metadata": {},
     "output_type": "execute_result"
    }
   ],
   "source": [
    "chatWords = {\n",
    "    'AFAIK':'As Far As I Know',\n",
    "    'AFK':'Away From Keyboard',\n",
    "    'ASAP':'As Soon As Possible',\n",
    "    \"FYI\": \"For Your Information\",\n",
    "    \"ASAP\": \"As Soon As Possible\",\n",
    "    \"BRB\": \"Be Right Back\",\n",
    "    \"BTW\": \"By The Way\",\n",
    "    \"OMG\": \"Oh My God\",\n",
    "    \"IMO\": \"In My Opinion\",\n",
    "    \"LOL\": \"Laugh Out Loud\",\n",
    "    \"TTYL\": \"Talk To You Later\",\n",
    "    \"GTG\": \"Got To Go\",\n",
    "    \"TTYT\": \"Talk To You Tomorrow\",\n",
    "    \"IDK\": \"I Don't Know\",\n",
    "    \"TMI\": \"Too Much Information\",\n",
    "    \"IMHO\": \"In My Humble Opinion\",\n",
    "    \"ICYMI\": \"In Case You Missed It\",\n",
    "    \"AFAIK\": \"As Far As I Know\",\n",
    "    \"BTW\": \"By The Way\",\n",
    "    \"FAQ\": \"Frequently Asked Questions\",\n",
    "    \"TGIF\": \"Thank God It's Friday\",\n",
    "    \"FYA\": \"For Your Action\",\n",
    "    \"ICYMI\": \"In Case You Missed It\",\n",
    "}\n",
    "chatWords"
   ]
  },
  {
   "cell_type": "code",
   "execution_count": 31,
   "id": "8126c7ad",
   "metadata": {
    "execution": {
     "iopub.execute_input": "2025-03-09T06:15:30.190830Z",
     "iopub.status.busy": "2025-03-09T06:15:30.190508Z",
     "iopub.status.idle": "2025-03-09T06:15:30.194210Z",
     "shell.execute_reply": "2025-03-09T06:15:30.193634Z"
    },
    "papermill": {
     "duration": 0.015924,
     "end_time": "2025-03-09T06:15:30.195332",
     "exception": false,
     "start_time": "2025-03-09T06:15:30.179408",
     "status": "completed"
    },
    "tags": []
   },
   "outputs": [],
   "source": [
    "def chatConversion(text):\n",
    "    newText = []\n",
    "    for w in text.split():\n",
    "        if w.upper() in chatWords:\n",
    "            newText.append(chatWords[w.upper()])\n",
    "        else:\n",
    "            newText.append(w)\n",
    "    return \" \".join(newText)"
   ]
  },
  {
   "cell_type": "code",
   "execution_count": 32,
   "id": "a2130755",
   "metadata": {
    "execution": {
     "iopub.execute_input": "2025-03-09T06:15:30.217572Z",
     "iopub.status.busy": "2025-03-09T06:15:30.217251Z",
     "iopub.status.idle": "2025-03-09T06:15:30.221303Z",
     "shell.execute_reply": "2025-03-09T06:15:30.220674Z"
    },
    "papermill": {
     "duration": 0.016024,
     "end_time": "2025-03-09T06:15:30.222352",
     "exception": false,
     "start_time": "2025-03-09T06:15:30.206328",
     "status": "completed"
    },
    "tags": []
   },
   "outputs": [
    {
     "data": {
      "text/plain": [
       "'Do this work As Soon As Possible'"
      ]
     },
     "execution_count": 32,
     "metadata": {},
     "output_type": "execute_result"
    }
   ],
   "source": [
    "chatConversion('Do this work ASAP')"
   ]
  },
  {
   "cell_type": "markdown",
   "id": "9a53f8ad",
   "metadata": {
    "papermill": {
     "duration": 0.0102,
     "end_time": "2025-03-09T06:15:30.243398",
     "exception": false,
     "start_time": "2025-03-09T06:15:30.233198",
     "status": "completed"
    },
    "tags": []
   },
   "source": [
    "## Incorrect Text Handling"
   ]
  },
  {
   "cell_type": "code",
   "execution_count": 33,
   "id": "33185190",
   "metadata": {
    "execution": {
     "iopub.execute_input": "2025-03-09T06:15:30.265278Z",
     "iopub.status.busy": "2025-03-09T06:15:30.264996Z",
     "iopub.status.idle": "2025-03-09T06:15:32.009949Z",
     "shell.execute_reply": "2025-03-09T06:15:32.009152Z"
    },
    "papermill": {
     "duration": 1.757722,
     "end_time": "2025-03-09T06:15:32.011582",
     "exception": false,
     "start_time": "2025-03-09T06:15:30.253860",
     "status": "completed"
    },
    "tags": []
   },
   "outputs": [],
   "source": [
    "from textblob import TextBlob"
   ]
  },
  {
   "cell_type": "code",
   "execution_count": 34,
   "id": "3dbbc58c",
   "metadata": {
    "execution": {
     "iopub.execute_input": "2025-03-09T06:15:32.034316Z",
     "iopub.status.busy": "2025-03-09T06:15:32.033880Z",
     "iopub.status.idle": "2025-03-09T06:15:32.037940Z",
     "shell.execute_reply": "2025-03-09T06:15:32.037028Z"
    },
    "papermill": {
     "duration": 0.016846,
     "end_time": "2025-03-09T06:15:32.039464",
     "exception": false,
     "start_time": "2025-03-09T06:15:32.022618",
     "status": "completed"
    },
    "tags": []
   },
   "outputs": [],
   "source": [
    "incorrectText = 'ceertain conditionas duriing seveal ggenerations aree moodified in the saame maner.'"
   ]
  },
  {
   "cell_type": "code",
   "execution_count": 35,
   "id": "65efb0d4",
   "metadata": {
    "execution": {
     "iopub.execute_input": "2025-03-09T06:15:32.061870Z",
     "iopub.status.busy": "2025-03-09T06:15:32.061642Z",
     "iopub.status.idle": "2025-03-09T06:15:32.097354Z",
     "shell.execute_reply": "2025-03-09T06:15:32.096475Z"
    },
    "papermill": {
     "duration": 0.048328,
     "end_time": "2025-03-09T06:15:32.099132",
     "exception": false,
     "start_time": "2025-03-09T06:15:32.050804",
     "status": "completed"
    },
    "tags": []
   },
   "outputs": [
    {
     "data": {
      "text/plain": [
       "'certain conditions during several generations are modified in the same manner.'"
      ]
     },
     "execution_count": 35,
     "metadata": {},
     "output_type": "execute_result"
    }
   ],
   "source": [
    "textBlb = TextBlob(incorrectText)\n",
    "textBlb.correct().string"
   ]
  },
  {
   "cell_type": "markdown",
   "id": "283cb978",
   "metadata": {
    "papermill": {
     "duration": 0.011807,
     "end_time": "2025-03-09T06:15:32.123808",
     "exception": false,
     "start_time": "2025-03-09T06:15:32.112001",
     "status": "completed"
    },
    "tags": []
   },
   "source": [
    "## Stopwords"
   ]
  },
  {
   "cell_type": "code",
   "execution_count": 36,
   "id": "877afd41",
   "metadata": {
    "execution": {
     "iopub.execute_input": "2025-03-09T06:15:32.146461Z",
     "iopub.status.busy": "2025-03-09T06:15:32.146140Z",
     "iopub.status.idle": "2025-03-09T06:15:32.223506Z",
     "shell.execute_reply": "2025-03-09T06:15:32.222525Z"
    },
    "papermill": {
     "duration": 0.090177,
     "end_time": "2025-03-09T06:15:32.225015",
     "exception": false,
     "start_time": "2025-03-09T06:15:32.134838",
     "status": "completed"
    },
    "tags": []
   },
   "outputs": [
    {
     "name": "stdout",
     "output_type": "stream",
     "text": [
      "[nltk_data] Downloading package stopwords to /usr/share/nltk_data...\n",
      "[nltk_data]   Unzipping corpora/stopwords.zip.\n"
     ]
    },
    {
     "data": {
      "text/plain": [
       "True"
      ]
     },
     "execution_count": 36,
     "metadata": {},
     "output_type": "execute_result"
    }
   ],
   "source": [
    "from nltk.corpus import stopwords\n",
    "import nltk\n",
    "nltk.download('stopwords')"
   ]
  },
  {
   "cell_type": "code",
   "execution_count": 37,
   "id": "ddda0027",
   "metadata": {
    "execution": {
     "iopub.execute_input": "2025-03-09T06:15:32.247615Z",
     "iopub.status.busy": "2025-03-09T06:15:32.247319Z",
     "iopub.status.idle": "2025-03-09T06:15:32.253943Z",
     "shell.execute_reply": "2025-03-09T06:15:32.253307Z"
    },
    "papermill": {
     "duration": 0.018669,
     "end_time": "2025-03-09T06:15:32.254983",
     "exception": false,
     "start_time": "2025-03-09T06:15:32.236314",
     "status": "completed"
    },
    "tags": []
   },
   "outputs": [
    {
     "data": {
      "text/plain": [
       "['a',\n",
       " 'about',\n",
       " 'above',\n",
       " 'after',\n",
       " 'again',\n",
       " 'against',\n",
       " 'ain',\n",
       " 'all',\n",
       " 'am',\n",
       " 'an',\n",
       " 'and',\n",
       " 'any',\n",
       " 'are',\n",
       " 'aren',\n",
       " \"aren't\",\n",
       " 'as',\n",
       " 'at',\n",
       " 'be',\n",
       " 'because',\n",
       " 'been',\n",
       " 'before',\n",
       " 'being',\n",
       " 'below',\n",
       " 'between',\n",
       " 'both',\n",
       " 'but',\n",
       " 'by',\n",
       " 'can',\n",
       " 'couldn',\n",
       " \"couldn't\",\n",
       " 'd',\n",
       " 'did',\n",
       " 'didn',\n",
       " \"didn't\",\n",
       " 'do',\n",
       " 'does',\n",
       " 'doesn',\n",
       " \"doesn't\",\n",
       " 'doing',\n",
       " 'don',\n",
       " \"don't\",\n",
       " 'down',\n",
       " 'during',\n",
       " 'each',\n",
       " 'few',\n",
       " 'for',\n",
       " 'from',\n",
       " 'further',\n",
       " 'had',\n",
       " 'hadn',\n",
       " \"hadn't\",\n",
       " 'has',\n",
       " 'hasn',\n",
       " \"hasn't\",\n",
       " 'have',\n",
       " 'haven',\n",
       " \"haven't\",\n",
       " 'having',\n",
       " 'he',\n",
       " \"he'd\",\n",
       " \"he'll\",\n",
       " 'her',\n",
       " 'here',\n",
       " 'hers',\n",
       " 'herself',\n",
       " \"he's\",\n",
       " 'him',\n",
       " 'himself',\n",
       " 'his',\n",
       " 'how',\n",
       " 'i',\n",
       " \"i'd\",\n",
       " 'if',\n",
       " \"i'll\",\n",
       " \"i'm\",\n",
       " 'in',\n",
       " 'into',\n",
       " 'is',\n",
       " 'isn',\n",
       " \"isn't\",\n",
       " 'it',\n",
       " \"it'd\",\n",
       " \"it'll\",\n",
       " \"it's\",\n",
       " 'its',\n",
       " 'itself',\n",
       " \"i've\",\n",
       " 'just',\n",
       " 'll',\n",
       " 'm',\n",
       " 'ma',\n",
       " 'me',\n",
       " 'mightn',\n",
       " \"mightn't\",\n",
       " 'more',\n",
       " 'most',\n",
       " 'mustn',\n",
       " \"mustn't\",\n",
       " 'my',\n",
       " 'myself',\n",
       " 'needn',\n",
       " \"needn't\",\n",
       " 'no',\n",
       " 'nor',\n",
       " 'not',\n",
       " 'now',\n",
       " 'o',\n",
       " 'of',\n",
       " 'off',\n",
       " 'on',\n",
       " 'once',\n",
       " 'only',\n",
       " 'or',\n",
       " 'other',\n",
       " 'our',\n",
       " 'ours',\n",
       " 'ourselves',\n",
       " 'out',\n",
       " 'over',\n",
       " 'own',\n",
       " 're',\n",
       " 's',\n",
       " 'same',\n",
       " 'shan',\n",
       " \"shan't\",\n",
       " 'she',\n",
       " \"she'd\",\n",
       " \"she'll\",\n",
       " \"she's\",\n",
       " 'should',\n",
       " 'shouldn',\n",
       " \"shouldn't\",\n",
       " \"should've\",\n",
       " 'so',\n",
       " 'some',\n",
       " 'such',\n",
       " 't',\n",
       " 'than',\n",
       " 'that',\n",
       " \"that'll\",\n",
       " 'the',\n",
       " 'their',\n",
       " 'theirs',\n",
       " 'them',\n",
       " 'themselves',\n",
       " 'then',\n",
       " 'there',\n",
       " 'these',\n",
       " 'they',\n",
       " \"they'd\",\n",
       " \"they'll\",\n",
       " \"they're\",\n",
       " \"they've\",\n",
       " 'this',\n",
       " 'those',\n",
       " 'through',\n",
       " 'to',\n",
       " 'too',\n",
       " 'under',\n",
       " 'until',\n",
       " 'up',\n",
       " 've',\n",
       " 'very',\n",
       " 'was',\n",
       " 'wasn',\n",
       " \"wasn't\",\n",
       " 'we',\n",
       " \"we'd\",\n",
       " \"we'll\",\n",
       " \"we're\",\n",
       " 'were',\n",
       " 'weren',\n",
       " \"weren't\",\n",
       " \"we've\",\n",
       " 'what',\n",
       " 'when',\n",
       " 'where',\n",
       " 'which',\n",
       " 'while',\n",
       " 'who',\n",
       " 'whom',\n",
       " 'why',\n",
       " 'will',\n",
       " 'with',\n",
       " 'won',\n",
       " \"won't\",\n",
       " 'wouldn',\n",
       " \"wouldn't\",\n",
       " 'y',\n",
       " 'you',\n",
       " \"you'd\",\n",
       " \"you'll\",\n",
       " 'your',\n",
       " \"you're\",\n",
       " 'yours',\n",
       " 'yourself',\n",
       " 'yourselves',\n",
       " \"you've\"]"
      ]
     },
     "execution_count": 37,
     "metadata": {},
     "output_type": "execute_result"
    }
   ],
   "source": [
    "stopwords.words('english')"
   ]
  },
  {
   "cell_type": "code",
   "execution_count": 38,
   "id": "6f2ab122",
   "metadata": {
    "execution": {
     "iopub.execute_input": "2025-03-09T06:15:32.278027Z",
     "iopub.status.busy": "2025-03-09T06:15:32.277778Z",
     "iopub.status.idle": "2025-03-09T06:15:32.282160Z",
     "shell.execute_reply": "2025-03-09T06:15:32.281488Z"
    },
    "papermill": {
     "duration": 0.016453,
     "end_time": "2025-03-09T06:15:32.283153",
     "exception": false,
     "start_time": "2025-03-09T06:15:32.266700",
     "status": "completed"
    },
    "tags": []
   },
   "outputs": [
    {
     "data": {
      "text/plain": [
       "198"
      ]
     },
     "execution_count": 38,
     "metadata": {},
     "output_type": "execute_result"
    }
   ],
   "source": [
    "len(stopwords.words('english'))"
   ]
  },
  {
   "cell_type": "code",
   "execution_count": 39,
   "id": "42f7c2b2",
   "metadata": {
    "execution": {
     "iopub.execute_input": "2025-03-09T06:15:32.305979Z",
     "iopub.status.busy": "2025-03-09T06:15:32.305641Z",
     "iopub.status.idle": "2025-03-09T06:15:32.309497Z",
     "shell.execute_reply": "2025-03-09T06:15:32.308803Z"
    },
    "papermill": {
     "duration": 0.016555,
     "end_time": "2025-03-09T06:15:32.310599",
     "exception": false,
     "start_time": "2025-03-09T06:15:32.294044",
     "status": "completed"
    },
    "tags": []
   },
   "outputs": [],
   "source": [
    "def removeStopwords(text):\n",
    "    newText = []\n",
    "    for word in text.split():\n",
    "        if word in stopwords.words('english'):\n",
    "            newText.append('')\n",
    "        else:\n",
    "            newText.append(word)\n",
    "    x = newText[:]\n",
    "    newText.clear()\n",
    "    return \" \".join(x)"
   ]
  },
  {
   "cell_type": "code",
   "execution_count": 40,
   "id": "4ad6a774",
   "metadata": {
    "execution": {
     "iopub.execute_input": "2025-03-09T06:15:32.332954Z",
     "iopub.status.busy": "2025-03-09T06:15:32.332638Z",
     "iopub.status.idle": "2025-03-09T06:15:32.340631Z",
     "shell.execute_reply": "2025-03-09T06:15:32.339954Z"
    },
    "papermill": {
     "duration": 0.020493,
     "end_time": "2025-03-09T06:15:32.341719",
     "exception": false,
     "start_time": "2025-03-09T06:15:32.321226",
     "status": "completed"
    },
    "tags": []
   },
   "outputs": [
    {
     "data": {
      "text/plain": [
       "'probably  all-time favorite movie,  story  selflessness, sacrifice  dedication   noble cause,    preachy  boring.   never gets old, despite   seen   15   times'"
      ]
     },
     "execution_count": 40,
     "metadata": {},
     "output_type": "execute_result"
    }
   ],
   "source": [
    "removeStopwords('probably my all-time favorite movie, a story of selflessness, sacrifice and dedication to a noble cause, but it\\'s not preachy or boring. it just never gets old, despite my having seen it some 15 or more times')"
   ]
  },
  {
   "cell_type": "code",
   "execution_count": 41,
   "id": "78b1089e",
   "metadata": {
    "execution": {
     "iopub.execute_input": "2025-03-09T06:15:32.365781Z",
     "iopub.status.busy": "2025-03-09T06:15:32.365511Z",
     "iopub.status.idle": "2025-03-09T06:15:32.371753Z",
     "shell.execute_reply": "2025-03-09T06:15:32.371068Z"
    },
    "papermill": {
     "duration": 0.020329,
     "end_time": "2025-03-09T06:15:32.372831",
     "exception": false,
     "start_time": "2025-03-09T06:15:32.352502",
     "status": "completed"
    },
    "tags": []
   },
   "outputs": [
    {
     "data": {
      "text/html": [
       "<div>\n",
       "<style scoped>\n",
       "    .dataframe tbody tr th:only-of-type {\n",
       "        vertical-align: middle;\n",
       "    }\n",
       "\n",
       "    .dataframe tbody tr th {\n",
       "        vertical-align: top;\n",
       "    }\n",
       "\n",
       "    .dataframe thead th {\n",
       "        text-align: right;\n",
       "    }\n",
       "</style>\n",
       "<table border=\"1\" class=\"dataframe\">\n",
       "  <thead>\n",
       "    <tr style=\"text-align: right;\">\n",
       "      <th></th>\n",
       "      <th>review</th>\n",
       "      <th>sentiment</th>\n",
       "    </tr>\n",
       "  </thead>\n",
       "  <tbody>\n",
       "    <tr>\n",
       "      <th>0</th>\n",
       "      <td>one of the other reviewers has mentioned that ...</td>\n",
       "      <td>positive</td>\n",
       "    </tr>\n",
       "    <tr>\n",
       "      <th>1</th>\n",
       "      <td>a wonderful little production. the filming tec...</td>\n",
       "      <td>positive</td>\n",
       "    </tr>\n",
       "    <tr>\n",
       "      <th>2</th>\n",
       "      <td>i thought this was a wonderful way to spend ti...</td>\n",
       "      <td>positive</td>\n",
       "    </tr>\n",
       "    <tr>\n",
       "      <th>3</th>\n",
       "      <td>basically there's a family where a little boy ...</td>\n",
       "      <td>negative</td>\n",
       "    </tr>\n",
       "    <tr>\n",
       "      <th>4</th>\n",
       "      <td>petter mattei's \"love in the time of money\" is...</td>\n",
       "      <td>positive</td>\n",
       "    </tr>\n",
       "  </tbody>\n",
       "</table>\n",
       "</div>"
      ],
      "text/plain": [
       "                                              review sentiment\n",
       "0  one of the other reviewers has mentioned that ...  positive\n",
       "1  a wonderful little production. the filming tec...  positive\n",
       "2  i thought this was a wonderful way to spend ti...  positive\n",
       "3  basically there's a family where a little boy ...  negative\n",
       "4  petter mattei's \"love in the time of money\" is...  positive"
      ]
     },
     "execution_count": 41,
     "metadata": {},
     "output_type": "execute_result"
    }
   ],
   "source": [
    "df.head()"
   ]
  },
  {
   "cell_type": "code",
   "execution_count": 42,
   "id": "b375d357",
   "metadata": {
    "execution": {
     "iopub.execute_input": "2025-03-09T06:15:32.395692Z",
     "iopub.status.busy": "2025-03-09T06:15:32.395375Z",
     "iopub.status.idle": "2025-03-09T06:15:34.214334Z",
     "shell.execute_reply": "2025-03-09T06:15:34.213357Z"
    },
    "papermill": {
     "duration": 1.831637,
     "end_time": "2025-03-09T06:15:34.215598",
     "exception": false,
     "start_time": "2025-03-09T06:15:32.383961",
     "status": "completed"
    },
    "tags": []
   },
   "outputs": [
    {
     "data": {
      "text/plain": [
       "0     one    reviewers  mentioned   watching  1 oz e...\n",
       "1      wonderful little production.  filming techniq...\n",
       "2      thought    wonderful way  spend time    hot s...\n",
       "3     basically there's  family   little boy (jake) ...\n",
       "4     petter mattei's \"love   time  money\"   visuall...\n",
       "                            ...                        \n",
       "95    daniel day-lewis    versatile actor alive. eng...\n",
       "96     guess would    originally going    least two ...\n",
       "97    well,  like  watch bad horror b-movies, cause ...\n",
       "98       worst movie   ever seen,  well as,  worst  ...\n",
       "99        mario fan   long    remember,    fond memo...\n",
       "Name: review, Length: 100, dtype: object"
      ]
     },
     "execution_count": 42,
     "metadata": {},
     "output_type": "execute_result"
    }
   ],
   "source": [
    "df['review'].apply(removeStopwords)"
   ]
  },
  {
   "cell_type": "markdown",
   "id": "61499079",
   "metadata": {
    "papermill": {
     "duration": 0.010521,
     "end_time": "2025-03-09T06:15:34.237475",
     "exception": false,
     "start_time": "2025-03-09T06:15:34.226954",
     "status": "completed"
    },
    "tags": []
   },
   "source": [
    "## Remove Emoji Handle"
   ]
  },
  {
   "cell_type": "code",
   "execution_count": 43,
   "id": "e61dfa82",
   "metadata": {
    "execution": {
     "iopub.execute_input": "2025-03-09T06:15:34.260437Z",
     "iopub.status.busy": "2025-03-09T06:15:34.260112Z",
     "iopub.status.idle": "2025-03-09T06:15:34.265363Z",
     "shell.execute_reply": "2025-03-09T06:15:34.264299Z"
    },
    "papermill": {
     "duration": 0.019038,
     "end_time": "2025-03-09T06:15:34.267214",
     "exception": false,
     "start_time": "2025-03-09T06:15:34.248176",
     "status": "completed"
    },
    "tags": []
   },
   "outputs": [],
   "source": [
    "import re\n",
    "def removeEmoji(text):\n",
    "    emojiPattern = re.compile(\"[\"\n",
    "                           u\"\\U0001F600-\\U0001F64F\"  # emoticons\n",
    "                           u\"\\U0001F300-\\U0001F5FF\"  # symbols & pictographs\n",
    "                           u\"\\U0001F680-\\U0001F6FF\"  # transport & map symbols\n",
    "                           u\"\\U0001F1E0-\\U0001F1FF\"  # flags (iOS)\n",
    "                           u\"\\U00002702-\\U000027B0\"\n",
    "                           u\"\\U000024C2-\\U0001F251\"\n",
    "                           \"]+\", flags=re.UNICODE)\n",
    "    return emojiPattern.sub(r'', text)"
   ]
  },
  {
   "cell_type": "code",
   "execution_count": 44,
   "id": "4e7ab411",
   "metadata": {
    "execution": {
     "iopub.execute_input": "2025-03-09T06:15:34.298583Z",
     "iopub.status.busy": "2025-03-09T06:15:34.298201Z",
     "iopub.status.idle": "2025-03-09T06:15:34.306576Z",
     "shell.execute_reply": "2025-03-09T06:15:34.305656Z"
    },
    "papermill": {
     "duration": 0.027244,
     "end_time": "2025-03-09T06:15:34.307922",
     "exception": false,
     "start_time": "2025-03-09T06:15:34.280678",
     "status": "completed"
    },
    "tags": []
   },
   "outputs": [
    {
     "data": {
      "text/plain": [
       "'Loved the movie. It was '"
      ]
     },
     "execution_count": 44,
     "metadata": {},
     "output_type": "execute_result"
    }
   ],
   "source": [
    "removeEmoji(\"Loved the movie. It was 😘😘\")"
   ]
  },
  {
   "cell_type": "code",
   "execution_count": 45,
   "id": "c67de062",
   "metadata": {
    "execution": {
     "iopub.execute_input": "2025-03-09T06:15:34.336292Z",
     "iopub.status.busy": "2025-03-09T06:15:34.335953Z",
     "iopub.status.idle": "2025-03-09T06:15:38.443730Z",
     "shell.execute_reply": "2025-03-09T06:15:38.442801Z"
    },
    "papermill": {
     "duration": 4.124286,
     "end_time": "2025-03-09T06:15:38.446252",
     "exception": false,
     "start_time": "2025-03-09T06:15:34.321966",
     "status": "completed"
    },
    "tags": []
   },
   "outputs": [
    {
     "name": "stdout",
     "output_type": "stream",
     "text": [
      "Requirement already satisfied: emoji in /usr/local/lib/python3.10/dist-packages (2.14.1)\r\n"
     ]
    }
   ],
   "source": [
    "!pip install emoji"
   ]
  },
  {
   "cell_type": "code",
   "execution_count": 46,
   "id": "604f1a23",
   "metadata": {
    "execution": {
     "iopub.execute_input": "2025-03-09T06:15:38.469760Z",
     "iopub.status.busy": "2025-03-09T06:15:38.469429Z",
     "iopub.status.idle": "2025-03-09T06:15:38.595791Z",
     "shell.execute_reply": "2025-03-09T06:15:38.594670Z"
    },
    "papermill": {
     "duration": 0.139593,
     "end_time": "2025-03-09T06:15:38.597311",
     "exception": false,
     "start_time": "2025-03-09T06:15:38.457718",
     "status": "completed"
    },
    "tags": []
   },
   "outputs": [
    {
     "name": "stdout",
     "output_type": "stream",
     "text": [
      "Python is :fire:\n"
     ]
    }
   ],
   "source": [
    "import emoji\n",
    "print(emoji.demojize('Python is 🔥'))"
   ]
  },
  {
   "cell_type": "code",
   "execution_count": 47,
   "id": "804cd3c9",
   "metadata": {
    "execution": {
     "iopub.execute_input": "2025-03-09T06:15:38.621498Z",
     "iopub.status.busy": "2025-03-09T06:15:38.621168Z",
     "iopub.status.idle": "2025-03-09T06:15:38.626222Z",
     "shell.execute_reply": "2025-03-09T06:15:38.625441Z"
    },
    "papermill": {
     "duration": 0.018453,
     "end_time": "2025-03-09T06:15:38.627592",
     "exception": false,
     "start_time": "2025-03-09T06:15:38.609139",
     "status": "completed"
    },
    "tags": []
   },
   "outputs": [
    {
     "data": {
      "text/plain": [
       "'Loved the movie. It was :face_blowing_a_kiss:'"
      ]
     },
     "execution_count": 47,
     "metadata": {},
     "output_type": "execute_result"
    }
   ],
   "source": [
    "emoji.demojize('Loved the movie. It was 😘')"
   ]
  },
  {
   "cell_type": "code",
   "execution_count": 48,
   "id": "43af58bd",
   "metadata": {
    "execution": {
     "iopub.execute_input": "2025-03-09T06:15:38.651361Z",
     "iopub.status.busy": "2025-03-09T06:15:38.651050Z",
     "iopub.status.idle": "2025-03-09T06:15:38.655731Z",
     "shell.execute_reply": "2025-03-09T06:15:38.654996Z"
    },
    "papermill": {
     "duration": 0.017784,
     "end_time": "2025-03-09T06:15:38.656833",
     "exception": false,
     "start_time": "2025-03-09T06:15:38.639049",
     "status": "completed"
    },
    "tags": []
   },
   "outputs": [
    {
     "data": {
      "text/plain": [
       "'Loved the movie. It was :grinning_squinting_face:'"
      ]
     },
     "execution_count": 48,
     "metadata": {},
     "output_type": "execute_result"
    }
   ],
   "source": [
    "emoji.demojize('Loved the movie. It was 😆')"
   ]
  },
  {
   "cell_type": "markdown",
   "id": "dded73de",
   "metadata": {
    "papermill": {
     "duration": 0.010898,
     "end_time": "2025-03-09T06:15:38.678928",
     "exception": false,
     "start_time": "2025-03-09T06:15:38.668030",
     "status": "completed"
    },
    "tags": []
   },
   "source": [
    "## Tokenization\n",
    "Two types of tokenization we discuss here one is word tokenization and another is sentence tokenization"
   ]
  },
  {
   "cell_type": "code",
   "execution_count": 49,
   "id": "cbf2ef51",
   "metadata": {
    "execution": {
     "iopub.execute_input": "2025-03-09T06:15:38.703197Z",
     "iopub.status.busy": "2025-03-09T06:15:38.702877Z",
     "iopub.status.idle": "2025-03-09T06:15:38.708882Z",
     "shell.execute_reply": "2025-03-09T06:15:38.707619Z"
    },
    "papermill": {
     "duration": 0.020135,
     "end_time": "2025-03-09T06:15:38.710208",
     "exception": false,
     "start_time": "2025-03-09T06:15:38.690073",
     "status": "completed"
    },
    "tags": []
   },
   "outputs": [
    {
     "data": {
      "text/plain": [
       "['I', 'am', 'going', 'to', 'delhi']"
      ]
     },
     "execution_count": 49,
     "metadata": {},
     "output_type": "execute_result"
    }
   ],
   "source": [
    "# word tokenization\n",
    "sent1 = 'I am going to delhi'\n",
    "sent1.split()"
   ]
  },
  {
   "cell_type": "code",
   "execution_count": 50,
   "id": "bd3b690e",
   "metadata": {
    "execution": {
     "iopub.execute_input": "2025-03-09T06:15:38.734778Z",
     "iopub.status.busy": "2025-03-09T06:15:38.734420Z",
     "iopub.status.idle": "2025-03-09T06:15:38.739201Z",
     "shell.execute_reply": "2025-03-09T06:15:38.738502Z"
    },
    "papermill": {
     "duration": 0.017868,
     "end_time": "2025-03-09T06:15:38.740247",
     "exception": false,
     "start_time": "2025-03-09T06:15:38.722379",
     "status": "completed"
    },
    "tags": []
   },
   "outputs": [
    {
     "data": {
      "text/plain": [
       "['I am going to delhi',\n",
       " ' I will stay there for 3 days',\n",
       " \" Let's hope the trip to be great\"]"
      ]
     },
     "execution_count": 50,
     "metadata": {},
     "output_type": "execute_result"
    }
   ],
   "source": [
    "# sentence tokenization\n",
    "sent2 = 'I am going to delhi. I will stay there for 3 days. Let\\'s hope the trip to be great'\n",
    "sent2.split('.')"
   ]
  },
  {
   "cell_type": "markdown",
   "id": "c71c70a1",
   "metadata": {
    "papermill": {
     "duration": 0.011434,
     "end_time": "2025-03-09T06:15:38.762898",
     "exception": false,
     "start_time": "2025-03-09T06:15:38.751464",
     "status": "completed"
    },
    "tags": []
   },
   "source": [
    "With the help of nltk we can perform tokenization"
   ]
  },
  {
   "cell_type": "code",
   "execution_count": 51,
   "id": "a36db7d5",
   "metadata": {
    "execution": {
     "iopub.execute_input": "2025-03-09T06:15:38.786334Z",
     "iopub.status.busy": "2025-03-09T06:15:38.786065Z",
     "iopub.status.idle": "2025-03-09T06:15:38.987328Z",
     "shell.execute_reply": "2025-03-09T06:15:38.986574Z"
    },
    "papermill": {
     "duration": 0.214721,
     "end_time": "2025-03-09T06:15:38.988776",
     "exception": false,
     "start_time": "2025-03-09T06:15:38.774055",
     "status": "completed"
    },
    "tags": []
   },
   "outputs": [
    {
     "name": "stdout",
     "output_type": "stream",
     "text": [
      "[nltk_data] Downloading package punkt to /usr/share/nltk_data...\n",
      "[nltk_data]   Package punkt is already up-to-date!\n",
      "[nltk_data] Downloading package punkt_tab to /usr/share/nltk_data...\n",
      "[nltk_data]   Unzipping tokenizers/punkt_tab.zip.\n"
     ]
    },
    {
     "data": {
      "text/plain": [
       "True"
      ]
     },
     "execution_count": 51,
     "metadata": {},
     "output_type": "execute_result"
    }
   ],
   "source": [
    "from nltk.tokenize import word_tokenize,sent_tokenize\n",
    "import nltk\n",
    "nltk.download('punkt')\n",
    "nltk.download('punkt_tab')"
   ]
  },
  {
   "cell_type": "code",
   "execution_count": 52,
   "id": "d1efd85c",
   "metadata": {
    "execution": {
     "iopub.execute_input": "2025-03-09T06:15:39.012900Z",
     "iopub.status.busy": "2025-03-09T06:15:39.012621Z",
     "iopub.status.idle": "2025-03-09T06:15:39.023621Z",
     "shell.execute_reply": "2025-03-09T06:15:39.022465Z"
    },
    "papermill": {
     "duration": 0.024048,
     "end_time": "2025-03-09T06:15:39.024845",
     "exception": false,
     "start_time": "2025-03-09T06:15:39.000797",
     "status": "completed"
    },
    "tags": []
   },
   "outputs": [
    {
     "data": {
      "text/plain": [
       "['I', 'am', 'going', 'to', 'visit', 'delhi', '!']"
      ]
     },
     "execution_count": 52,
     "metadata": {},
     "output_type": "execute_result"
    }
   ],
   "source": [
    "sent1 = 'I am going to visit delhi!'\n",
    "word_tokenize(sent1)"
   ]
  },
  {
   "cell_type": "code",
   "execution_count": 53,
   "id": "9dcacbf9",
   "metadata": {
    "execution": {
     "iopub.execute_input": "2025-03-09T06:15:39.050499Z",
     "iopub.status.busy": "2025-03-09T06:15:39.050243Z",
     "iopub.status.idle": "2025-03-09T06:15:39.056139Z",
     "shell.execute_reply": "2025-03-09T06:15:39.055204Z"
    },
    "papermill": {
     "duration": 0.019548,
     "end_time": "2025-03-09T06:15:39.057203",
     "exception": false,
     "start_time": "2025-03-09T06:15:39.037655",
     "status": "completed"
    },
    "tags": []
   },
   "outputs": [
    {
     "data": {
      "text/plain": [
       "['Lorem Ipsum is simply dummy text of the printing and typesetting industry?',\n",
       " \"Lorem Ipsum has been the industry's standard dummy text ever since the 1500s,\\nwhen an unknown printer took a galley of type and scrambled it to make a type specimen book.\"]"
      ]
     },
     "execution_count": 53,
     "metadata": {},
     "output_type": "execute_result"
    }
   ],
   "source": [
    "text = \"\"\"Lorem Ipsum is simply dummy text of the printing and typesetting industry?\n",
    "Lorem Ipsum has been the industry's standard dummy text ever since the 1500s,\n",
    "when an unknown printer took a galley of type and scrambled it to make a type specimen book.\"\"\"\n",
    "\n",
    "sent_tokenize(text)"
   ]
  },
  {
   "cell_type": "markdown",
   "id": "77f5de15",
   "metadata": {
    "papermill": {
     "duration": 0.011049,
     "end_time": "2025-03-09T06:15:39.080524",
     "exception": false,
     "start_time": "2025-03-09T06:15:39.069475",
     "status": "completed"
    },
    "tags": []
   },
   "source": [
    "With the help of regular expression we can also perform tokenization"
   ]
  },
  {
   "cell_type": "code",
   "execution_count": 54,
   "id": "912106f1",
   "metadata": {
    "execution": {
     "iopub.execute_input": "2025-03-09T06:15:39.104195Z",
     "iopub.status.busy": "2025-03-09T06:15:39.103914Z",
     "iopub.status.idle": "2025-03-09T06:15:39.108457Z",
     "shell.execute_reply": "2025-03-09T06:15:39.107768Z"
    },
    "papermill": {
     "duration": 0.017931,
     "end_time": "2025-03-09T06:15:39.109690",
     "exception": false,
     "start_time": "2025-03-09T06:15:39.091759",
     "status": "completed"
    },
    "tags": []
   },
   "outputs": [
    {
     "data": {
      "text/plain": [
       "['I', 'am', 'going', 'to', 'Dhaka']"
      ]
     },
     "execution_count": 54,
     "metadata": {},
     "output_type": "execute_result"
    }
   ],
   "source": [
    "import re\n",
    "sen = 'I am going to Dhaka.'\n",
    "token = re.findall(\"[\\w']+\", sen)\n",
    "token"
   ]
  },
  {
   "cell_type": "code",
   "execution_count": 55,
   "id": "fdac3125",
   "metadata": {
    "execution": {
     "iopub.execute_input": "2025-03-09T06:15:39.133735Z",
     "iopub.status.busy": "2025-03-09T06:15:39.133397Z",
     "iopub.status.idle": "2025-03-09T06:15:39.138323Z",
     "shell.execute_reply": "2025-03-09T06:15:39.137520Z"
    },
    "papermill": {
     "duration": 0.01816,
     "end_time": "2025-03-09T06:15:39.139472",
     "exception": false,
     "start_time": "2025-03-09T06:15:39.121312",
     "status": "completed"
    },
    "tags": []
   },
   "outputs": [
    {
     "data": {
      "text/plain": [
       "[\"Lorem Ipsum is simply dummy text of the printing and typesetting industry?\\nLorem Ipsum has been the industry's standard dummy text ever since the 1500s,\\nwhen an unknown printer took a galley of type and scrambled it to make a type specimen book.\"]"
      ]
     },
     "execution_count": 55,
     "metadata": {},
     "output_type": "execute_result"
    }
   ],
   "source": [
    "text1 = \"\"\"Lorem Ipsum is simply dummy text of the printing and typesetting industry?\n",
    "Lorem Ipsum has been the industry's standard dummy text ever since the 1500s,\n",
    "when an unknown printer took a galley of type and scrambled it to make a type specimen book.\"\"\"\n",
    "sentences = re.compile('[.!?] ').split(text1)\n",
    "sentences"
   ]
  },
  {
   "cell_type": "markdown",
   "id": "ea13609d",
   "metadata": {
    "papermill": {
     "duration": 0.011245,
     "end_time": "2025-03-09T06:15:39.162245",
     "exception": false,
     "start_time": "2025-03-09T06:15:39.151000",
     "status": "completed"
    },
    "tags": []
   },
   "source": [
    "Perform tokenization with the help of spacy"
   ]
  },
  {
   "cell_type": "code",
   "execution_count": 56,
   "id": "ac705784",
   "metadata": {
    "execution": {
     "iopub.execute_input": "2025-03-09T06:15:39.186488Z",
     "iopub.status.busy": "2025-03-09T06:15:39.186119Z",
     "iopub.status.idle": "2025-03-09T06:15:44.394987Z",
     "shell.execute_reply": "2025-03-09T06:15:44.394149Z"
    },
    "papermill": {
     "duration": 5.222983,
     "end_time": "2025-03-09T06:15:44.396590",
     "exception": false,
     "start_time": "2025-03-09T06:15:39.173607",
     "status": "completed"
    },
    "tags": []
   },
   "outputs": [],
   "source": [
    "import spacy\n",
    "nlp = spacy.load('en_core_web_sm')"
   ]
  },
  {
   "cell_type": "code",
   "execution_count": 57,
   "id": "eceaa361",
   "metadata": {
    "execution": {
     "iopub.execute_input": "2025-03-09T06:15:44.422450Z",
     "iopub.status.busy": "2025-03-09T06:15:44.421972Z",
     "iopub.status.idle": "2025-03-09T06:15:44.444583Z",
     "shell.execute_reply": "2025-03-09T06:15:44.443805Z"
    },
    "papermill": {
     "duration": 0.036643,
     "end_time": "2025-03-09T06:15:44.445862",
     "exception": false,
     "start_time": "2025-03-09T06:15:44.409219",
     "status": "completed"
    },
    "tags": []
   },
   "outputs": [
    {
     "data": {
      "text/plain": [
       "I am going to Dhaka."
      ]
     },
     "execution_count": 57,
     "metadata": {},
     "output_type": "execute_result"
    }
   ],
   "source": [
    "\n",
    "doc1 = nlp(sen)\n",
    "doc1"
   ]
  },
  {
   "cell_type": "code",
   "execution_count": 58,
   "id": "f3e114bb",
   "metadata": {
    "execution": {
     "iopub.execute_input": "2025-03-09T06:15:44.472094Z",
     "iopub.status.busy": "2025-03-09T06:15:44.471811Z",
     "iopub.status.idle": "2025-03-09T06:15:44.475958Z",
     "shell.execute_reply": "2025-03-09T06:15:44.474989Z"
    },
    "papermill": {
     "duration": 0.01843,
     "end_time": "2025-03-09T06:15:44.477112",
     "exception": false,
     "start_time": "2025-03-09T06:15:44.458682",
     "status": "completed"
    },
    "tags": []
   },
   "outputs": [
    {
     "name": "stdout",
     "output_type": "stream",
     "text": [
      "I\n",
      "am\n",
      "going\n",
      "to\n",
      "Dhaka\n",
      ".\n"
     ]
    }
   ],
   "source": [
    "\n",
    "for token in doc1:\n",
    "    print(token)"
   ]
  },
  {
   "cell_type": "markdown",
   "id": "d62fd38a",
   "metadata": {
    "papermill": {
     "duration": 0.011943,
     "end_time": "2025-03-09T06:15:44.501746",
     "exception": false,
     "start_time": "2025-03-09T06:15:44.489803",
     "status": "completed"
    },
    "tags": []
   },
   "source": [
    "## Stemming"
   ]
  },
  {
   "cell_type": "code",
   "execution_count": 59,
   "id": "de7373e3",
   "metadata": {
    "execution": {
     "iopub.execute_input": "2025-03-09T06:15:44.526678Z",
     "iopub.status.busy": "2025-03-09T06:15:44.526319Z",
     "iopub.status.idle": "2025-03-09T06:15:44.530111Z",
     "shell.execute_reply": "2025-03-09T06:15:44.529399Z"
    },
    "papermill": {
     "duration": 0.01762,
     "end_time": "2025-03-09T06:15:44.531249",
     "exception": false,
     "start_time": "2025-03-09T06:15:44.513629",
     "status": "completed"
    },
    "tags": []
   },
   "outputs": [],
   "source": [
    "from nltk.stem.porter import PorterStemmer"
   ]
  },
  {
   "cell_type": "code",
   "execution_count": 60,
   "id": "e8321e85",
   "metadata": {
    "execution": {
     "iopub.execute_input": "2025-03-09T06:15:44.557171Z",
     "iopub.status.busy": "2025-03-09T06:15:44.556853Z",
     "iopub.status.idle": "2025-03-09T06:15:44.560890Z",
     "shell.execute_reply": "2025-03-09T06:15:44.560131Z"
    },
    "papermill": {
     "duration": 0.018354,
     "end_time": "2025-03-09T06:15:44.562531",
     "exception": false,
     "start_time": "2025-03-09T06:15:44.544177",
     "status": "completed"
    },
    "tags": []
   },
   "outputs": [],
   "source": [
    "ps = PorterStemmer()\n",
    "def stem_words(text):\n",
    "    return \" \".join([ps.stem(word) for word in text.split()])"
   ]
  },
  {
   "cell_type": "code",
   "execution_count": 61,
   "id": "2c876008",
   "metadata": {
    "execution": {
     "iopub.execute_input": "2025-03-09T06:15:44.589710Z",
     "iopub.status.busy": "2025-03-09T06:15:44.589356Z",
     "iopub.status.idle": "2025-03-09T06:15:44.594386Z",
     "shell.execute_reply": "2025-03-09T06:15:44.593638Z"
    },
    "papermill": {
     "duration": 0.019085,
     "end_time": "2025-03-09T06:15:44.595442",
     "exception": false,
     "start_time": "2025-03-09T06:15:44.576357",
     "status": "completed"
    },
    "tags": []
   },
   "outputs": [
    {
     "data": {
      "text/plain": [
       "'walk walk walk walk'"
      ]
     },
     "execution_count": 61,
     "metadata": {},
     "output_type": "execute_result"
    }
   ],
   "source": [
    "sample = \"walk walks walking walked\"\n",
    "stem_words(sample)"
   ]
  },
  {
   "cell_type": "code",
   "execution_count": 62,
   "id": "31e8b06e",
   "metadata": {
    "execution": {
     "iopub.execute_input": "2025-03-09T06:15:44.620953Z",
     "iopub.status.busy": "2025-03-09T06:15:44.620694Z",
     "iopub.status.idle": "2025-03-09T06:15:44.624472Z",
     "shell.execute_reply": "2025-03-09T06:15:44.623636Z"
    },
    "papermill": {
     "duration": 0.017574,
     "end_time": "2025-03-09T06:15:44.625609",
     "exception": false,
     "start_time": "2025-03-09T06:15:44.608035",
     "status": "completed"
    },
    "tags": []
   },
   "outputs": [
    {
     "name": "stdout",
     "output_type": "stream",
     "text": [
      "probably my alltime favorite movie a story of selflessness sacrifice and dedication to a noble cause but its not preachy or boring it just never gets old despite my having seen it some 15 or more times in the last 25 years paul lukas performance brings tears to my eyes and bette davis in one of her very few truly sympathetic roles is a delight the kids are as grandma says more like dressedup midgets than children but that only makes them more fun to watch and the mothers slow awakening to whats happening in the world and under her own roof is believable and startling if i had a dozen thumbs theyd all be up for this movie\n"
     ]
    }
   ],
   "source": [
    "text = 'probably my alltime favorite movie a story of selflessness sacrifice and dedication to a noble cause but its not preachy or boring it just never gets old despite my having seen it some 15 or more times in the last 25 years paul lukas performance brings tears to my eyes and bette davis in one of her very few truly sympathetic roles is a delight the kids are as grandma says more like dressedup midgets than children but that only makes them more fun to watch and the mothers slow awakening to whats happening in the world and under her own roof is believable and startling if i had a dozen thumbs theyd all be up for this movie'\n",
    "print(text)"
   ]
  },
  {
   "cell_type": "code",
   "execution_count": 63,
   "id": "6a3d2f24",
   "metadata": {
    "execution": {
     "iopub.execute_input": "2025-03-09T06:15:44.650693Z",
     "iopub.status.busy": "2025-03-09T06:15:44.650396Z",
     "iopub.status.idle": "2025-03-09T06:15:44.655669Z",
     "shell.execute_reply": "2025-03-09T06:15:44.654993Z"
    },
    "papermill": {
     "duration": 0.019206,
     "end_time": "2025-03-09T06:15:44.656984",
     "exception": false,
     "start_time": "2025-03-09T06:15:44.637778",
     "status": "completed"
    },
    "tags": []
   },
   "outputs": [
    {
     "data": {
      "text/plain": [
       "'probabl my alltim favorit movi a stori of selfless sacrific and dedic to a nobl caus but it not preachi or bore it just never get old despit my have seen it some 15 or more time in the last 25 year paul luka perform bring tear to my eye and bett davi in one of her veri few truli sympathet role is a delight the kid are as grandma say more like dressedup midget than children but that onli make them more fun to watch and the mother slow awaken to what happen in the world and under her own roof is believ and startl if i had a dozen thumb theyd all be up for thi movi'"
      ]
     },
     "execution_count": 63,
     "metadata": {},
     "output_type": "execute_result"
    }
   ],
   "source": [
    "stem_words(text)"
   ]
  },
  {
   "cell_type": "markdown",
   "id": "c8283188",
   "metadata": {
    "papermill": {
     "duration": 0.011951,
     "end_time": "2025-03-09T06:15:44.682075",
     "exception": false,
     "start_time": "2025-03-09T06:15:44.670124",
     "status": "completed"
    },
    "tags": []
   },
   "source": [
    "## Lemmatization"
   ]
  },
  {
   "cell_type": "code",
   "execution_count": 64,
   "id": "f2179303",
   "metadata": {
    "execution": {
     "iopub.execute_input": "2025-03-09T06:15:44.707722Z",
     "iopub.status.busy": "2025-03-09T06:15:44.707389Z",
     "iopub.status.idle": "2025-03-09T06:15:44.867267Z",
     "shell.execute_reply": "2025-03-09T06:15:44.866333Z"
    },
    "papermill": {
     "duration": 0.174469,
     "end_time": "2025-03-09T06:15:44.868690",
     "exception": false,
     "start_time": "2025-03-09T06:15:44.694221",
     "status": "completed"
    },
    "tags": []
   },
   "outputs": [
    {
     "name": "stdout",
     "output_type": "stream",
     "text": [
      "[nltk_data] Downloading package wordnet to /usr/share/nltk_data...\n",
      "[nltk_data]   Package wordnet is already up-to-date!\n",
      "[nltk_data] Downloading package omw-1.4 to /usr/share/nltk_data...\n"
     ]
    },
    {
     "data": {
      "text/plain": [
       "True"
      ]
     },
     "execution_count": 64,
     "metadata": {},
     "output_type": "execute_result"
    }
   ],
   "source": [
    "import nltk\n",
    "from nltk.stem import WordNetLemmatizer\n",
    "import nltk\n",
    "nltk.download('wordnet')\n",
    "nltk.download('omw-1.4')"
   ]
  },
  {
   "cell_type": "code",
   "execution_count": 65,
   "id": "dcd241b9",
   "metadata": {
    "execution": {
     "iopub.execute_input": "2025-03-09T06:15:44.896438Z",
     "iopub.status.busy": "2025-03-09T06:15:44.896107Z",
     "iopub.status.idle": "2025-03-09T06:15:44.901401Z",
     "shell.execute_reply": "2025-03-09T06:15:44.900377Z"
    },
    "papermill": {
     "duration": 0.021101,
     "end_time": "2025-03-09T06:15:44.902948",
     "exception": false,
     "start_time": "2025-03-09T06:15:44.881847",
     "status": "completed"
    },
    "tags": []
   },
   "outputs": [],
   "source": [
    "wordnet_lemmatizer = WordNetLemmatizer()\n",
    "\n",
    "sentence = \"He was running and eating at same time. He has bad habit of swimming after playing long hours in the Sun.\"\n",
    "punctuations=\"?:!.,;\"\n",
    "sentence_words = nltk.word_tokenize(sentence)\n",
    "for word in sentence_words:\n",
    "    if word in punctuations:\n",
    "        sentence_words.remove(word)\n",
    "\n",
    "# sentence_words\n",
    "# print(\"{0:20}{1:20}\".format(\"Word\",\"Lemma\"))\n",
    "# for word in sentence_words:\n",
    "#     print (\"{0:20}{1:20}\".format(word,wordnet_lemmatizer.lemmatize(word,pos='v')))\n",
    "        \n",
    "    ## need to correct this code"
   ]
  },
  {
   "cell_type": "markdown",
   "id": "30c62c84",
   "metadata": {
    "papermill": {
     "duration": 0.012052,
     "end_time": "2025-03-09T06:15:44.927717",
     "exception": false,
     "start_time": "2025-03-09T06:15:44.915665",
     "status": "completed"
    },
    "tags": []
   },
   "source": [
    "**NOTE: Stemming & lamatization are same to retrieve root words but lamatization is worked good. Lamatization is slow & stemming is fast**"
   ]
  }
 ],
 "metadata": {
  "kaggle": {
   "accelerator": "none",
   "dataSources": [
    {
     "datasetId": 118601,
     "sourceId": 284856,
     "sourceType": "datasetVersion"
    },
    {
     "datasetId": 134715,
     "sourceId": 320111,
     "sourceType": "datasetVersion"
    }
   ],
   "dockerImageVersionId": 30918,
   "isGpuEnabled": false,
   "isInternetEnabled": true,
   "language": "python",
   "sourceType": "notebook"
  },
  "kernelspec": {
   "display_name": "Python 3",
   "language": "python",
   "name": "python3"
  },
  "language_info": {
   "codemirror_mode": {
    "name": "ipython",
    "version": 3
   },
   "file_extension": ".py",
   "mimetype": "text/x-python",
   "name": "python",
   "nbconvert_exporter": "python",
   "pygments_lexer": "ipython3",
   "version": "3.10.12"
  },
  "papermill": {
   "default_parameters": {},
   "duration": 21.270144,
   "end_time": "2025-03-09T06:15:46.561438",
   "environment_variables": {},
   "exception": null,
   "input_path": "__notebook__.ipynb",
   "output_path": "__notebook__.ipynb",
   "parameters": {},
   "start_time": "2025-03-09T06:15:25.291294",
   "version": "2.6.0"
  }
 },
 "nbformat": 4,
 "nbformat_minor": 5
}
